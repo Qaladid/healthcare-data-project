{
 "cells": [
  {
   "cell_type": "code",
   "execution_count": 1,
   "id": "5eac3551-3e98-4404-aa36-4434cbac1c2d",
   "metadata": {},
   "outputs": [],
   "source": [
    "import pandas as pd"
   ]
  },
  {
   "cell_type": "code",
   "execution_count": 2,
   "id": "99b41180-75eb-48bc-a6e5-5ce984fa424c",
   "metadata": {},
   "outputs": [
    {
     "data": {
      "text/plain": [
       "'2.2.2'"
      ]
     },
     "execution_count": 2,
     "metadata": {},
     "output_type": "execute_result"
    }
   ],
   "source": [
    "pd.__version__"
   ]
  },
  {
   "cell_type": "code",
   "execution_count": 51,
   "id": "8f9c8fa7-4f4d-41a3-8310-af95bc4a8656",
   "metadata": {},
   "outputs": [
    {
     "name": "stdout",
     "output_type": "stream",
     "text": [
      "Requirement already satisfied: psycopg2-binary in c:\\users\\lenovo\\onedrive\\desktop\\healthcare-data-project\\venv\\lib\\site-packages (2.9.9)\n",
      "Note: you may need to restart the kernel to use updated packages.\n"
     ]
    },
    {
     "name": "stderr",
     "output_type": "stream",
     "text": [
      "\n",
      "[notice] A new release of pip is available: 23.2.1 -> 24.2\n",
      "[notice] To update, run: python.exe -m pip install --upgrade pip\n"
     ]
    }
   ],
   "source": [
    "pip install psycopg2-binary"
   ]
  },
  {
   "cell_type": "code",
   "execution_count": 53,
   "id": "4b5e3089-97fa-4a6c-9e84-7fc04fcbe4bb",
   "metadata": {},
   "outputs": [
    {
     "name": "stdout",
     "output_type": "stream",
     "text": [
      "Collecting sqlalchemy\n",
      "  Obtaining dependency information for sqlalchemy from https://files.pythonhosted.org/packages/bb/8c/4548ae42b4ab7f3fe9f1aeb4b1f28ea795485ca44840cb0f3f57aa8ecfcc/SQLAlchemy-2.0.32-cp311-cp311-win_amd64.whl.metadata\n",
      "  Downloading SQLAlchemy-2.0.32-cp311-cp311-win_amd64.whl.metadata (9.8 kB)\n",
      "Requirement already satisfied: typing-extensions>=4.6.0 in c:\\users\\lenovo\\onedrive\\desktop\\healthcare-data-project\\venv\\lib\\site-packages (from sqlalchemy) (4.12.2)\n",
      "Collecting greenlet!=0.4.17 (from sqlalchemy)\n",
      "  Obtaining dependency information for greenlet!=0.4.17 from https://files.pythonhosted.org/packages/47/79/26d54d7d700ef65b689fc2665a40846d13e834da0486674a8d4f0f371a47/greenlet-3.0.3-cp311-cp311-win_amd64.whl.metadata\n",
      "  Using cached greenlet-3.0.3-cp311-cp311-win_amd64.whl.metadata (3.9 kB)\n",
      "Downloading SQLAlchemy-2.0.32-cp311-cp311-win_amd64.whl (2.1 MB)\n",
      "   ---------------------------------------- 0.0/2.1 MB ? eta -:--:--\n",
      "   ---------------------------------------- 0.0/2.1 MB ? eta -:--:--\n",
      "   ---------------------------------------- 0.0/2.1 MB 217.9 kB/s eta 0:00:10\n",
      "    --------------------------------------- 0.0/2.1 MB 279.3 kB/s eta 0:00:08\n",
      "   - -------------------------------------- 0.1/2.1 MB 476.3 kB/s eta 0:00:05\n",
      "   -- ------------------------------------- 0.1/2.1 MB 552.2 kB/s eta 0:00:04\n",
      "   ---- ----------------------------------- 0.2/2.1 MB 846.9 kB/s eta 0:00:03\n",
      "   ----- ---------------------------------- 0.3/2.1 MB 948.8 kB/s eta 0:00:02\n",
      "   ------- -------------------------------- 0.4/2.1 MB 995.6 kB/s eta 0:00:02\n",
      "   ------- -------------------------------- 0.4/2.1 MB 995.2 kB/s eta 0:00:02\n",
      "   -------- ------------------------------- 0.5/2.1 MB 1.0 MB/s eta 0:00:02\n",
      "   --------- ------------------------------ 0.5/2.1 MB 1.0 MB/s eta 0:00:02\n",
      "   --------- ------------------------------ 0.5/2.1 MB 1.0 MB/s eta 0:00:02\n",
      "   --------- ------------------------------ 0.5/2.1 MB 1.0 MB/s eta 0:00:02\n",
      "   --------- ------------------------------ 0.5/2.1 MB 1.0 MB/s eta 0:00:02\n",
      "   --------- ------------------------------ 0.5/2.1 MB 1.0 MB/s eta 0:00:02\n",
      "   ---------- ----------------------------- 0.5/2.1 MB 741.8 kB/s eta 0:00:03\n",
      "   ---------- ----------------------------- 0.5/2.1 MB 741.8 kB/s eta 0:00:03\n",
      "   --------------- ------------------------ 0.8/2.1 MB 969.8 kB/s eta 0:00:02\n",
      "   --------------- ------------------------ 0.8/2.1 MB 936.2 kB/s eta 0:00:02\n",
      "   ----------------- ---------------------- 0.9/2.1 MB 988.4 kB/s eta 0:00:02\n",
      "   ------------------ --------------------- 0.9/2.1 MB 976.8 kB/s eta 0:00:02\n",
      "   ------------------- -------------------- 1.0/2.1 MB 983.0 kB/s eta 0:00:02\n",
      "   -------------------- ------------------- 1.0/2.1 MB 972.9 kB/s eta 0:00:02\n",
      "   -------------------- ------------------- 1.1/2.1 MB 982.6 kB/s eta 0:00:02\n",
      "   -------------------- ------------------- 1.1/2.1 MB 982.6 kB/s eta 0:00:02\n",
      "   -------------------- ------------------- 1.1/2.1 MB 982.6 kB/s eta 0:00:02\n",
      "   -------------------- ------------------- 1.1/2.1 MB 982.6 kB/s eta 0:00:02\n",
      "   ------------------------ --------------- 1.3/2.1 MB 971.1 kB/s eta 0:00:01\n",
      "   ------------------------ --------------- 1.3/2.1 MB 971.1 kB/s eta 0:00:01\n",
      "   ------------------------ --------------- 1.3/2.1 MB 971.1 kB/s eta 0:00:01\n",
      "   -------------------------- ------------- 1.4/2.1 MB 979.4 kB/s eta 0:00:01\n",
      "   --------------------------- ------------ 1.4/2.1 MB 978.9 kB/s eta 0:00:01\n",
      "   ---------------------------- ----------- 1.5/2.1 MB 972.7 kB/s eta 0:00:01\n",
      "   ----------------------------- ---------- 1.5/2.1 MB 976.2 kB/s eta 0:00:01\n",
      "   ------------------------------ --------- 1.6/2.1 MB 979.5 kB/s eta 0:00:01\n",
      "   ------------------------------- -------- 1.6/2.1 MB 982.6 kB/s eta 0:00:01\n",
      "   -------------------------------- ------- 1.7/2.1 MB 971.0 kB/s eta 0:00:01\n",
      "   --------------------------------- ------ 1.7/2.1 MB 977.2 kB/s eta 0:00:01\n",
      "   --------------------------------- ------ 1.8/2.1 MB 974.4 kB/s eta 0:00:01\n",
      "   ---------------------------------- ----- 1.8/2.1 MB 977.4 kB/s eta 0:00:01\n",
      "   ----------------------------------- ---- 1.9/2.1 MB 980.1 kB/s eta 0:00:01\n",
      "   ------------------------------------ --- 1.9/2.1 MB 972.2 kB/s eta 0:00:01\n",
      "   ------------------------------------- -- 1.9/2.1 MB 975.0 kB/s eta 0:00:01\n",
      "   -------------------------------------- - 2.0/2.1 MB 977.6 kB/s eta 0:00:01\n",
      "   ---------------------------------------  2.0/2.1 MB 980.2 kB/s eta 0:00:01\n",
      "   ---------------------------------------  2.1/2.1 MB 980.3 kB/s eta 0:00:01\n",
      "   ---------------------------------------- 2.1/2.1 MB 955.0 kB/s eta 0:00:00\n",
      "Using cached greenlet-3.0.3-cp311-cp311-win_amd64.whl (292 kB)\n",
      "Installing collected packages: greenlet, sqlalchemy\n",
      "Successfully installed greenlet-3.0.3 sqlalchemy-2.0.32\n",
      "Note: you may need to restart the kernel to use updated packages.\n"
     ]
    },
    {
     "name": "stderr",
     "output_type": "stream",
     "text": [
      "\n",
      "[notice] A new release of pip is available: 23.2.1 -> 24.2\n",
      "[notice] To update, run: python.exe -m pip install --upgrade pip\n"
     ]
    }
   ],
   "source": [
    "pip install sqlalchemy"
   ]
  },
  {
   "cell_type": "code",
   "execution_count": 55,
   "id": "6367d36e-2c87-498d-b066-5698242c5176",
   "metadata": {},
   "outputs": [],
   "source": [
    "from sqlalchemy import create_engine"
   ]
  },
  {
   "cell_type": "code",
   "execution_count": 6,
   "id": "c40cba32-7c79-4413-953d-3472507becc4",
   "metadata": {},
   "outputs": [],
   "source": [
    "# Load the data from CSV\n",
    "file_path = r'C:\\Users\\LENOVO\\downloads\\archive\\healthcare_dataset.csv'"
   ]
  },
  {
   "cell_type": "code",
   "execution_count": 7,
   "id": "4f0dc539-e930-40ba-a759-b235299abd91",
   "metadata": {},
   "outputs": [],
   "source": [
    "df = pd.read_csv(file_path)"
   ]
  },
  {
   "cell_type": "code",
   "execution_count": 18,
   "id": "6a792a5d-bf04-453d-840b-4075a0604719",
   "metadata": {},
   "outputs": [],
   "source": [
    "# Replace spaces with underscores for all column names\n",
    "df.columns = df.columns.str.replace(' ', '_')"
   ]
  },
  {
   "cell_type": "code",
   "execution_count": 28,
   "id": "6af06819-84b3-402e-af99-e8c95c4e0140",
   "metadata": {},
   "outputs": [],
   "source": [
    "# Changing from object data type to datetime timestamp\n",
    "df['Date_of_Admission'] = pd.to_datetime(df['Date_of_Admission'])\n",
    "df['Discharge_Date'] = pd.to_datetime(df['Discharge_Date'])"
   ]
  },
  {
   "cell_type": "code",
   "execution_count": 27,
   "id": "32e9fc87-3478-4d26-9280-9677fdd36ab7",
   "metadata": {},
   "outputs": [],
   "source": [
    "# Round the Billing_Amount to 2 decimal places\n",
    "df['Billing_Amount'] = df['Billing_Amount'].round(2)"
   ]
  },
  {
   "cell_type": "code",
   "execution_count": 36,
   "id": "f0b33a37-7608-4990-96dd-06ce3f31945f",
   "metadata": {},
   "outputs": [],
   "source": [
    "# Convert columns to category type\n",
    "df['Gender'] = df['Gender'].astype('category')\n",
    "df['Blood_Type'] = df['Blood_Type'].astype('category')\n",
    "df['Medical_Condition'] = df['Medical_Condition'].astype('category')\n",
    "df['Admission_Type'] = df['Admission_Type'].astype('category')"
   ]
  },
  {
   "cell_type": "code",
   "execution_count": 38,
   "id": "8691883b-555b-4204-9c2e-40f664b1af8e",
   "metadata": {},
   "outputs": [
    {
     "data": {
      "text/plain": [
       "Name                          object\n",
       "Age                            int64\n",
       "Gender                      category\n",
       "Blood_Type                  category\n",
       "Medical_Condition           category\n",
       "Date_of_Admission     datetime64[ns]\n",
       "Doctor                        object\n",
       "Hospital                      object\n",
       "Insurance_Provider            object\n",
       "Billing_Amount               float64\n",
       "Room_Number                    int64\n",
       "Admission_Type              category\n",
       "Discharge_Date        datetime64[ns]\n",
       "Medication                    object\n",
       "Test_Results                  object\n",
       "dtype: object"
      ]
     },
     "execution_count": 38,
     "metadata": {},
     "output_type": "execute_result"
    }
   ],
   "source": [
    "df.dtypes"
   ]
  },
  {
   "cell_type": "code",
   "execution_count": 41,
   "id": "322859cd-0b42-4502-9e00-e1360b5cf998",
   "metadata": {},
   "outputs": [
    {
     "name": "stdout",
     "output_type": "stream",
     "text": [
      "Duplicate Rows:\n",
      "                      Name  Age  Gender Blood_Type Medical_Condition  \\\n",
      "50023        Samuel joYCe   56    Male         O+         Arthritis   \n",
      "50040    KIMBErly vasqueZ   26    Male         A-           Obesity   \n",
      "50055      SCoTT tHOrNton   55  Female         B-           Obesity   \n",
      "50070         wiLliam LEe   27  Female         O+         Arthritis   \n",
      "50078  chRistOPheR NoRrIs   38    Male        AB-         Arthritis   \n",
      "...                   ...  ...     ...        ...               ...   \n",
      "55461      connOR coMPTon   63    Male         A+            Asthma   \n",
      "55462       alYSsA mIlLER   35  Female         A-          Diabetes   \n",
      "55464        ChRIs huGHeS   35  Female        AB-           Obesity   \n",
      "55484     keNNEtH alvarez   80    Male         O+            Cancer   \n",
      "55491       lInDA grIFfin   47  Female         O+           Obesity   \n",
      "\n",
      "      Date_of_Admission             Doctor                    Hospital  \\\n",
      "50023        2022-11-03     Krista Hartman              Thomas-Ballard   \n",
      "50040        2023-10-23   Jennifer Bennett                   Cowan Inc   \n",
      "50055        2021-04-08      Joshua Ingram                  Keller LLC   \n",
      "50070        2020-01-31  Lauren Montgomery               Winters-Simon   \n",
      "50078        2023-01-14       Denise Blair                 Inc Morales   \n",
      "...                 ...                ...                         ...   \n",
      "55461        2021-08-21     Jonathan Allen  and Willis Mullins, Bowers   \n",
      "55462        2022-06-30         Ryan Price           Shelton-Gallagher   \n",
      "55464        2024-02-28      Katelyn Perry                Lyons-Hansen   \n",
      "55484        2022-05-05      Andrew Conner               Sons Mayo and   \n",
      "55491        2020-06-21     Danielle Davis    and King Jordan Johnson,   \n",
      "\n",
      "      Insurance_Provider  Billing_Amount  Room_Number Admission_Type  \\\n",
      "50023   UnitedHealthcare        15654.83          157         Urgent   \n",
      "50040   UnitedHealthcare        38142.11          313         Urgent   \n",
      "50055           Medicare        30894.90          455         Urgent   \n",
      "50070              Cigna        46229.43          153       Elective   \n",
      "50078           Medicare         9072.13          452      Emergency   \n",
      "...                  ...             ...          ...            ...   \n",
      "55461           Medicare         1936.70          375      Emergency   \n",
      "55462   UnitedHealthcare         2210.46          289       Elective   \n",
      "55464         Blue Cross        11889.15          128      Emergency   \n",
      "55484              Cigna        45653.80          114       Elective   \n",
      "55491              Aetna        15715.55          310      Emergency   \n",
      "\n",
      "      Discharge_Date   Medication  Test_Results  \n",
      "50023     2022-11-22      Aspirin  Inconclusive  \n",
      "50040     2023-11-18   Penicillin      Abnormal  \n",
      "50055     2021-04-15      Aspirin      Abnormal  \n",
      "50070     2020-02-13      Lipitor        Normal  \n",
      "50078     2023-02-12   Penicillin        Normal  \n",
      "...              ...          ...           ...  \n",
      "55461     2021-09-16  Paracetamol        Normal  \n",
      "55462     2022-07-27   Penicillin        Normal  \n",
      "55464     2024-03-14  Paracetamol      Abnormal  \n",
      "55484     2022-05-17      Aspirin        Normal  \n",
      "55491     2020-06-25      Lipitor      Abnormal  \n",
      "\n",
      "[534 rows x 15 columns]\n"
     ]
    }
   ],
   "source": [
    "duplicates = df[df.duplicated()]\n",
    "print(\"Duplicate Rows:\\n\", duplicates)"
   ]
  },
  {
   "cell_type": "code",
   "execution_count": 42,
   "id": "44e887f7-f627-452c-ab9d-db33defb20d4",
   "metadata": {},
   "outputs": [
    {
     "name": "stdout",
     "output_type": "stream",
     "text": [
      "Original DataFrame shape: (55500, 15)\n",
      "DataFrame shape after removing duplicates: (54966, 15)\n"
     ]
    }
   ],
   "source": [
    "# Remove duplicate rows\n",
    "df_cleaned = df.drop_duplicates()\n",
    "\n",
    "# Verify the number of rows before and after\n",
    "print(f\"Original DataFrame shape: {df.shape}\")\n",
    "print(f\"DataFrame shape after removing duplicates: {df_cleaned.shape}\")\n",
    "\n",
    "# Optionally, save the cleaned DataFrame to a new file\n",
    "df_cleaned.to_csv('cleaned_data.csv', index=False)\n"
   ]
  },
  {
   "cell_type": "code",
   "execution_count": 44,
   "id": "769d931b-6199-4f15-a9e4-2d9ee4594598",
   "metadata": {},
   "outputs": [
    {
     "name": "stdout",
     "output_type": "stream",
     "text": [
      "Cleaned data saved as 'healthcare_cleaned_data.csv'\n"
     ]
    }
   ],
   "source": [
    "# Save the cleaned DataFrame to a new CSV file with the desired name\n",
    "df_cleaned.to_csv('healthcare_cleaned_data.csv', index=False)\n",
    "\n",
    "# Verify that the file has been saved with the new name\n",
    "print(\"Cleaned data saved as 'healthcare_cleaned_data.csv'\")\n"
   ]
  },
  {
   "cell_type": "code",
   "execution_count": 47,
   "id": "e5ac1afc-a255-4f55-957b-2cdcf02f9b84",
   "metadata": {},
   "outputs": [],
   "source": [
    "df_cleaned.to_csv('healthcare_cleaned_data.csv', index=False)"
   ]
  },
  {
   "cell_type": "code",
   "execution_count": 63,
   "id": "f04b6da4-4720-4610-867f-f56489559f2b",
   "metadata": {},
   "outputs": [
    {
     "name": "stdout",
     "output_type": "stream",
     "text": [
      "Data loaded into PostgreSQL successfully.\n"
     ]
    }
   ],
   "source": [
    "# Load the cleaned CSV data into a DataFrame\n",
    "df_cleaned = pd.read_csv('healthcare_cleaned_data.csv')\n",
    "\n",
    "# Database connection parameters\n",
    "db_params = {\n",
    "    'dbname': 'postgres',\n",
    "    'user': 'postgres',\n",
    "    'password': 'postgres',\n",
    "    'host': 'localhost',  \n",
    "    'port': '5432'\n",
    "}\n",
    "\n",
    "# Create a connection string\n",
    "conn_str = f\"postgresql://{db_params['user']}:{db_params['password']}@{db_params['host']}:{db_params['port']}/{db_params['dbname']}\"\n",
    "\n",
    "# Create a SQLAlchemy engine\n",
    "engine = create_engine(conn_str)\n",
    "\n",
    "# Write the DataFrame to the PostgreSQL database\n",
    "df_cleaned.to_sql('healthcare_data', engine, if_exists='replace', index=False)\n",
    "\n",
    "print(\"Data loaded into PostgreSQL successfully.\")\n"
   ]
  },
  {
   "cell_type": "code",
   "execution_count": 2,
   "id": "ac68e21f-93b6-4278-b21d-eb5317e80357",
   "metadata": {},
   "outputs": [
    {
     "ename": "NameError",
     "evalue": "name 'Dataframe' is not defined",
     "output_type": "error",
     "traceback": [
      "\u001b[1;31m---------------------------------------------------------------------------\u001b[0m",
      "\u001b[1;31mNameError\u001b[0m                                 Traceback (most recent call last)",
      "Cell \u001b[1;32mIn[2], line 1\u001b[0m\n\u001b[1;32m----> 1\u001b[0m \u001b[43mDataframe\u001b[49m\u001b[38;5;241m.\u001b[39mdtypes\n",
      "\u001b[1;31mNameError\u001b[0m: name 'Dataframe' is not defined"
     ]
    }
   ],
   "source": [
    "Dataframe.dtypes"
   ]
  },
  {
   "cell_type": "code",
   "execution_count": 3,
   "id": "bdf127c9-ec96-48a6-b24b-bc2cc9adbcaa",
   "metadata": {},
   "outputs": [
    {
     "ename": "NameError",
     "evalue": "name 'columns' is not defined",
     "output_type": "error",
     "traceback": [
      "\u001b[1;31m---------------------------------------------------------------------------\u001b[0m",
      "\u001b[1;31mNameError\u001b[0m                                 Traceback (most recent call last)",
      "Cell \u001b[1;32mIn[3], line 1\u001b[0m\n\u001b[1;32m----> 1\u001b[0m \u001b[43mcolumns\u001b[49m\u001b[38;5;241m.\u001b[39mdtypes\n",
      "\u001b[1;31mNameError\u001b[0m: name 'columns' is not defined"
     ]
    }
   ],
   "source": [
    "columns.dtypes"
   ]
  },
  {
   "cell_type": "code",
   "execution_count": null,
   "id": "175f9b14-a9f8-4cd7-bc89-399787d653aa",
   "metadata": {},
   "outputs": [],
   "source": []
  }
 ],
 "metadata": {
  "kernelspec": {
   "display_name": "Python 3 (ipykernel)",
   "language": "python",
   "name": "python3"
  },
  "language_info": {
   "codemirror_mode": {
    "name": "ipython",
    "version": 3
   },
   "file_extension": ".py",
   "mimetype": "text/x-python",
   "name": "python",
   "nbconvert_exporter": "python",
   "pygments_lexer": "ipython3",
   "version": "3.11.5"
  }
 },
 "nbformat": 4,
 "nbformat_minor": 5
}
